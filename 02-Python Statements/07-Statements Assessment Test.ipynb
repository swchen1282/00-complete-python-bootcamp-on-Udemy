{
 "cells": [
  {
   "cell_type": "markdown",
   "metadata": {
    "collapsed": true
   },
   "source": [
    "# Statements Assessment Test\n",
    "Let's test your knowledge!"
   ]
  },
  {
   "cell_type": "markdown",
   "metadata": {},
   "source": [
    "_____\n",
    "**Use <code>for</code>, .split(), and <code>if</code> to create a Statement that will print out words that start with 's':**"
   ]
  },
  {
   "cell_type": "code",
   "execution_count": 1,
   "metadata": {},
   "outputs": [],
   "source": [
    "st = 'Print only the words that start with s in this sentence'"
   ]
  },
  {
   "cell_type": "code",
   "execution_count": 33,
   "metadata": {},
   "outputs": [
    {
     "name": "stdout",
     "output_type": "stream",
     "text": [
      "start\ns\nsentence\n"
     ]
    }
   ],
   "source": [
    "#Code here\n",
    "st = 'Print only the words that start with s in this sentence'\n",
    "st.split()\n",
    "st.split()[0]\n",
    "for i in st.split():\n",
    "    if i[0] == 's':\n",
    "       print (i)"
   ]
  },
  {
   "cell_type": "markdown",
   "metadata": {},
   "source": [
    "______\n",
    "**Use range() to print all the even numbers from 0 to 10.**"
   ]
  },
  {
   "cell_type": "code",
   "execution_count": 2,
   "metadata": {},
   "outputs": [
    {
     "name": "stdout",
     "output_type": "stream",
     "text": [
      "0\n2\n4\n6\n8\n10\n"
     ]
    },
    {
     "data": {
      "text/plain": [
       "[0, 2, 4, 6, 8, 10]"
      ]
     },
     "execution_count": 2,
     "metadata": {},
     "output_type": "execute_result"
    }
   ],
   "source": [
    "#soultion 1\n",
    "for even in range(0,11):\n",
    "    if even%2==0: print(even)\n",
    "\n",
    "#solution 2\n",
    "list(range(0,11,2))"
   ]
  },
  {
   "cell_type": "markdown",
   "metadata": {},
   "source": [
    "___\n",
    "**Use a List Comprehension to create a list of all numbers between 1 and 50 that are divisible by 3.**"
   ]
  },
  {
   "cell_type": "code",
   "execution_count": 13,
   "metadata": {},
   "outputs": [
    {
     "name": "stdout",
     "output_type": "stream",
     "text": [
      "3\n6\n9\n12\n15\n18\n21\n24\n27\n30\n33\n36\n39\n42\n45\n48\n"
     ]
    },
    {
     "data": {
      "text/plain": [
       "[3, 6, 9, 12, 15, 18, 21, 24, 27, 30, 33, 36, 39, 42, 45, 48]"
      ]
     },
     "execution_count": 13,
     "metadata": {},
     "output_type": "execute_result"
    }
   ],
   "source": [
    "#Code in this cell\n",
    "for num in range(1,51):\n",
    "    if num%3==0: print(num)\n",
    "\n",
    "#sol 2\n",
    "list(x for x in range(1,51) if x%3==0)"
   ]
  },
  {
   "cell_type": "markdown",
   "metadata": {},
   "source": [
    "_____\n",
    "**Go through the string below and if the length of a word is even print \"even!\"**"
   ]
  },
  {
   "cell_type": "code",
   "execution_count": 2,
   "metadata": {},
   "outputs": [
    {
     "name": "stdout",
     "output_type": "stream",
     "text": [
      "word\nin\nthis\nsentence\nthat\nan\neven\nnumber\nof\n"
     ]
    }
   ],
   "source": [
    "st = 'Print every word in this sentence that has an even number of letters'\n",
    "for test in st.split():\n",
    "    if len(test) %2 == 0:\n",
    "        print(test)\n",
    "#len(st.split()[0])\n"
   ]
  },
  {
   "cell_type": "code",
   "execution_count": null,
   "metadata": {},
   "outputs": [],
   "source": [
    "#Code in this cell"
   ]
  },
  {
   "cell_type": "markdown",
   "metadata": {},
   "source": [
    "____\n",
    "**Write a program that prints the integers from 1 to 100. But for multiples of three print \"Fizz\" instead of the number, and for the multiples of five print \"Buzz\". For numbers which are multiples of both three and five print \"FizzBuzz\".**"
   ]
  },
  {
   "cell_type": "code",
   "execution_count": 43,
   "metadata": {
    "collapsed": false
   },
   "outputs": [
    {
     "name": "stdout",
     "output_type": "stream",
     "text": [
      "1 is none above Fizz,Buzz,norFizzBuzz\n2 is none above Fizz,Buzz,norFizzBuzz\n3 is Fizz\n4 is none above Fizz,Buzz,norFizzBuzz\n5 is Buzz\n6 is Fizz\n7 is none above Fizz,Buzz,norFizzBuzz\n8 is none above Fizz,Buzz,norFizzBuzz\n9 is Fizz\n10 is Buzz\n11 is none above Fizz,Buzz,norFizzBuzz\n12 is Fizz\n13 is none above Fizz,Buzz,norFizzBuzz\n14 is none above Fizz,Buzz,norFizzBuzz\n15 is Fizz\n16 is none above Fizz,Buzz,norFizzBuzz\n17 is none above Fizz,Buzz,norFizzBuzz\n18 is Fizz\n19 is none above Fizz,Buzz,norFizzBuzz\n20 is Buzz\n21 is Fizz\n22 is none above Fizz,Buzz,norFizzBuzz\n23 is none above Fizz,Buzz,norFizzBuzz\n24 is Fizz\n25 is Buzz\n26 is none above Fizz,Buzz,norFizzBuzz\n27 is Fizz\n28 is none above Fizz,Buzz,norFizzBuzz\n29 is none above Fizz,Buzz,norFizzBuzz\n30 is Fizz\n31 is none above Fizz,Buzz,norFizzBuzz\n32 is none above Fizz,Buzz,norFizzBuzz\n33 is Fizz\n34 is none above Fizz,Buzz,norFizzBuzz\n35 is Buzz\n36 is Fizz\n37 is none above Fizz,Buzz,norFizzBuzz\n38 is none above Fizz,Buzz,norFizzBuzz\n39 is Fizz\n40 is Buzz\n41 is none above Fizz,Buzz,norFizzBuzz\n42 is Fizz\n43 is none above Fizz,Buzz,norFizzBuzz\n44 is none above Fizz,Buzz,norFizzBuzz\n45 is Fizz\n46 is none above Fizz,Buzz,norFizzBuzz\n47 is none above Fizz,Buzz,norFizzBuzz\n48 is Fizz\n49 is none above Fizz,Buzz,norFizzBuzz\n50 is Buzz\n51 is Fizz\n52 is none above Fizz,Buzz,norFizzBuzz\n53 is none above Fizz,Buzz,norFizzBuzz\n54 is Fizz\n55 is Buzz\n56 is none above Fizz,Buzz,norFizzBuzz\n57 is Fizz\n58 is none above Fizz,Buzz,norFizzBuzz\n59 is none above Fizz,Buzz,norFizzBuzz\n60 is Fizz\n61 is none above Fizz,Buzz,norFizzBuzz\n62 is none above Fizz,Buzz,norFizzBuzz\n63 is Fizz\n64 is none above Fizz,Buzz,norFizzBuzz\n65 is Buzz\n66 is Fizz\n67 is none above Fizz,Buzz,norFizzBuzz\n68 is none above Fizz,Buzz,norFizzBuzz\n69 is Fizz\n70 is Buzz\n71 is none above Fizz,Buzz,norFizzBuzz\n72 is Fizz\n73 is none above Fizz,Buzz,norFizzBuzz\n74 is none above Fizz,Buzz,norFizzBuzz\n75 is Fizz\n76 is none above Fizz,Buzz,norFizzBuzz\n77 is none above Fizz,Buzz,norFizzBuzz\n78 is Fizz\n79 is none above Fizz,Buzz,norFizzBuzz\n80 is Buzz\n81 is Fizz\n82 is none above Fizz,Buzz,norFizzBuzz\n83 is none above Fizz,Buzz,norFizzBuzz\n84 is Fizz\n85 is Buzz\n86 is none above Fizz,Buzz,norFizzBuzz\n87 is Fizz\n88 is none above Fizz,Buzz,norFizzBuzz\n89 is none above Fizz,Buzz,norFizzBuzz\n90 is Fizz\n91 is none above Fizz,Buzz,norFizzBuzz\n92 is none above Fizz,Buzz,norFizzBuzz\n93 is Fizz\n94 is none above Fizz,Buzz,norFizzBuzz\n95 is Buzz\n96 is Fizz\n97 is none above Fizz,Buzz,norFizzBuzz\n98 is none above Fizz,Buzz,norFizzBuzz\n99 is Fizz\n100 is Buzz\n1 is none above Fizz,Buzz,norFizzBuzz\n2 is none above Fizz,Buzz,norFizzBuzz\n3 is Fizz\n4 is none above Fizz,Buzz,norFizzBuzz\n5 is Buzz\n6 is Fizz\n7 is none above Fizz,Buzz,norFizzBuzz\n8 is none above Fizz,Buzz,norFizzBuzz\n9 is Fizz\n10 is Buzz\n11 is none above Fizz,Buzz,norFizzBuzz\n12 is Fizz\n13 is none above Fizz,Buzz,norFizzBuzz\n14 is none above Fizz,Buzz,norFizzBuzz\n15 is FizzBuzz\n16 is none above Fizz,Buzz,norFizzBuzz\n17 is none above Fizz,Buzz,norFizzBuzz\n18 is Fizz\n19 is none above Fizz,Buzz,norFizzBuzz\n20 is Buzz\n21 is Fizz\n22 is none above Fizz,Buzz,norFizzBuzz\n23 is none above Fizz,Buzz,norFizzBuzz\n24 is Fizz\n25 is Buzz\n26 is none above Fizz,Buzz,norFizzBuzz\n27 is Fizz\n28 is none above Fizz,Buzz,norFizzBuzz\n29 is none above Fizz,Buzz,norFizzBuzz\n30 is FizzBuzz\n31 is none above Fizz,Buzz,norFizzBuzz\n32 is none above Fizz,Buzz,norFizzBuzz\n33 is Fizz\n34 is none above Fizz,Buzz,norFizzBuzz\n35 is Buzz\n36 is Fizz\n37 is none above Fizz,Buzz,norFizzBuzz\n38 is none above Fizz,Buzz,norFizzBuzz\n39 is Fizz\n40 is Buzz\n41 is none above Fizz,Buzz,norFizzBuzz\n42 is Fizz\n43 is none above Fizz,Buzz,norFizzBuzz\n44 is none above Fizz,Buzz,norFizzBuzz\n45 is FizzBuzz\n46 is none above Fizz,Buzz,norFizzBuzz\n47 is none above Fizz,Buzz,norFizzBuzz\n48 is Fizz\n49 is none above Fizz,Buzz,norFizzBuzz\n50 is Buzz\n51 is Fizz\n52 is none above Fizz,Buzz,norFizzBuzz\n53 is none above Fizz,Buzz,norFizzBuzz\n54 is Fizz\n55 is Buzz\n56 is none above Fizz,Buzz,norFizzBuzz\n57 is Fizz\n58 is none above Fizz,Buzz,norFizzBuzz\n59 is none above Fizz,Buzz,norFizzBuzz\n60 is FizzBuzz\n61 is none above Fizz,Buzz,norFizzBuzz\n62 is none above Fizz,Buzz,norFizzBuzz\n63 is Fizz\n64 is none above Fizz,Buzz,norFizzBuzz\n65 is Buzz\n66 is Fizz\n67 is none above Fizz,Buzz,norFizzBuzz\n68 is none above Fizz,Buzz,norFizzBuzz\n69 is Fizz\n70 is Buzz\n71 is none above Fizz,Buzz,norFizzBuzz\n72 is Fizz\n73 is none above Fizz,Buzz,norFizzBuzz\n74 is none above Fizz,Buzz,norFizzBuzz\n75 is FizzBuzz\n76 is none above Fizz,Buzz,norFizzBuzz\n77 is none above Fizz,Buzz,norFizzBuzz\n78 is Fizz\n79 is none above Fizz,Buzz,norFizzBuzz\n80 is Buzz\n81 is Fizz\n82 is none above Fizz,Buzz,norFizzBuzz\n83 is none above Fizz,Buzz,norFizzBuzz\n84 is Fizz\n85 is Buzz\n86 is none above Fizz,Buzz,norFizzBuzz\n87 is Fizz\n88 is none above Fizz,Buzz,norFizzBuzz\n89 is none above Fizz,Buzz,norFizzBuzz\n90 is FizzBuzz\n91 is none above Fizz,Buzz,norFizzBuzz\n92 is none above Fizz,Buzz,norFizzBuzz\n93 is Fizz\n94 is none above Fizz,Buzz,norFizzBuzz\n95 is Buzz\n96 is Fizz\n97 is none above Fizz,Buzz,norFizzBuzz\n98 is none above Fizz,Buzz,norFizzBuzz\n99 is Fizz\n100 is Buzz\n"
     ]
    }
   ],
   "source": [
    "#Code in this cell\n",
    "#↓↓↓This is wrong↓↓↓\n",
    "for num in range(1,101):\n",
    "    if num%3==0 :\n",
    "        print(f'{num} is Fizz')\n",
    "    elif num%5==0: \n",
    "        print(f'{num} is Buzz')\n",
    "    elif num%15==0: \n",
    "        print(f'{num} is FizzBuzz')\n",
    "    else: print(f'{num} is none above Fizz,Buzz,norFizzBuzz')\n",
    "#↑↑↑This is wrong↑↑↑\n",
    "\n",
    "\n",
    "for num in range(1,101):\n",
    "    if num%15==0: \n",
    "        print(f'{num} is FizzBuzz')\n",
    "    elif num%3==0: \n",
    "        print(f'{num} is Fizz')\n",
    "    elif num%5==0: \n",
    "        print(f'{num} is Buzz')\n",
    "    else: print(f'{num} is none above Fizz,Buzz,norFizzBuzz')\n"
   ]
  },
  {
   "cell_type": "markdown",
   "metadata": {},
   "source": [
    "____\n",
    "**Use List Comprehension to create a list of the first letters of every word in the string below:**"
   ]
  },
  {
   "cell_type": "code",
   "execution_count": null,
   "metadata": {},
   "outputs": [],
   "source": [
    "st = 'Create a list of the first letters of every word in this string'"
   ]
  },
  {
   "cell_type": "code",
   "execution_count": 50,
   "metadata": {},
   "outputs": [
    {
     "name": "stdout",
     "output_type": "stream",
     "text": [
      "C\na\nl\no\nt\nf\nl\no\ne\nw\ni\nt\ns\n"
     ]
    },
    {
     "data": {
      "text/plain": [
       "['C', 'a', 'l', 'o', 't', 'f', 'l', 'o', 'e', 'w', 'i', 't', 's']"
      ]
     },
     "execution_count": 50,
     "metadata": {},
     "output_type": "execute_result"
    }
   ],
   "source": [
    "#Code in this cell\n",
    "st = 'Create a list of the first letters of every word in this string'\n",
    "for x in st.split():\n",
    "    print(x[0])\n",
    "    \n",
    "list(x[0] for x in st.split())"
   ]
  },
  {
   "cell_type": "markdown",
   "metadata": {},
   "source": [
    "### Great Job!"
   ]
  }
 ],
 "metadata": {
  "kernelspec": {
   "display_name": "Python 3",
   "language": "python",
   "name": "python3"
  },
  "language_info": {
   "codemirror_mode": {
    "name": "ipython",
    "version": 3
   },
   "file_extension": ".py",
   "mimetype": "text/x-python",
   "name": "python",
   "nbconvert_exporter": "python",
   "pygments_lexer": "ipython3",
   "version": "3.6.2"
  }
 },
 "nbformat": 4,
 "nbformat_minor": 1
}
