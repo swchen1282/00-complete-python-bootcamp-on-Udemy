{
 "cells": [
  {
   "cell_type": "code",
   "execution_count": 1,
   "metadata": {
    "collapsed": true
   },
   "outputs": [
    {
     "name": "stdout",
     "output_type": "stream",
     "text": [
      "hello world\n"
     ]
    }
   ],
   "source": [
    "def myfunc():\n",
    "    print('hello world')\n",
    "myfunc()"
   ]
  },
  {
   "cell_type": "code",
   "execution_count": 2,
   "metadata": {},
   "outputs": [
    {
     "data": {
      "text/plain": [
       "'Goodbye'"
      ]
     },
     "execution_count": 2,
     "metadata": {},
     "output_type": "execute_result"
    }
   ],
   "source": [
    "def myfunc(x):\n",
    "    if x == 3:\n",
    "        return 'Hello'\n",
    "    else:\n",
    "        return 'Goodbye'\n",
    "myfunc(2)"
   ]
  },
  {
   "cell_type": "code",
   "execution_count": 7,
   "metadata": {},
   "outputs": [
    {
     "data": {
      "text/plain": [
       "1.5"
      ]
     },
     "execution_count": 7,
     "metadata": {},
     "output_type": "execute_result"
    }
   ],
   "source": [
    "def func(*args): # 使用*args可以不需指定function內的變數有幾個，即可執行\n",
    "    return sum(args) * 0.05\n",
    "func(10,20)"
   ]
  },
  {
   "cell_type": "code",
   "execution_count": 13,
   "metadata": {},
   "outputs": [
    {
     "name": "stdout",
     "output_type": "stream",
     "text": [
      "My fruit choice is cabbage\n"
     ]
    }
   ],
   "source": [
    "def func(**kwargs):\n",
    "    if 'veg' in kwargs:\n",
    "        print ('My fruit choice is {}'.format(kwargs['veg']))\n",
    "    else:\n",
    "        print ('I can\\'t find any fruit here')\n",
    "func(fruit='apple', veg = 'cabbage')"
   ]
  },
  {
   "cell_type": "code",
   "execution_count": 30,
   "metadata": {},
   "outputs": [
    {
     "name": "stdout",
     "output_type": "stream",
     "text": [
      "10 is even\n10 iseven\n11 is not even\n12 is even\n12 iseven\n13 is not even\n14 is even\n14 iseven\n15 is not even\n"
     ]
    }
   ],
   "source": [
    "def myfunc(*args):\n",
    "    for num in args:\n",
    "        if num%2==0:\n",
    "            print('{}'.format(num) + ' is even')\n",
    "        else:\n",
    "            print('{}'.format(num) + ' is not even')\n",
    "myfunc(10,11,12,13,14,15)"
   ]
  },
  {
   "cell_type": "code",
   "execution_count": 46,
   "metadata": {},
   "outputs": [
    {
     "data": {
      "text/plain": [
       "[10, 12]"
      ]
     },
     "execution_count": 46,
     "metadata": {},
     "output_type": "execute_result"
    }
   ],
   "source": [
    "def myfunc(*args):\n",
    "    even=[]\n",
    "    for num in args:\n",
    "        if num%2==0:\n",
    "            even.append(num)\n",
    "    return even\n",
    "myfunc(10,11,12,13)"
   ]
  },
  {
   "cell_type": "code",
   "execution_count": null,
   "metadata": {},
   "outputs": [],
   "source": [
    "# To change the word capitalize, if even word then upper, if odd word then lower \n",
    "# Wrong solution by SW\n",
    "\n",
    "def stf(**kwargs):\n",
    "    strlen = len(kwargs)\n",
    "    recase = []\n",
    "    for num in range(0, strlen):\n",
    "        if num%2==0:\n",
    "            recase.append(kwargs[num].upper())\n",
    "        else :\n",
    "            recase.append(kwargs[num].lower())\n",
    "    return recase\n",
    "stf('laoda')"
   ]
  },
  {
   "cell_type": "code",
   "execution_count": 85,
   "metadata": {},
   "outputs": [
    {
     "data": {
      "text/plain": [
       "'lAoDa'"
      ]
     },
     "execution_count": 85,
     "metadata": {},
     "output_type": "execute_result"
    }
   ],
   "source": [
    "# To change the word capitalize, if even word then upper, if odd word then lower\n",
    "# Other peoples solution\n",
    "def myfunc (my_string):\n",
    "\n",
    "    count = 0\n",
    "    my_new_string = ''\n",
    "    for letter in my_string:\n",
    "        count = count+1\n",
    "        if count%2 == 0:\n",
    "            my_new_string = my_new_string + letter.upper()\n",
    "        elif count%2 != 0:\n",
    "            my_new_string = my_new_string + letter.lower()\n",
    "    return my_new_string\n",
    "myfunc('laoda')"
   ]
  },
  {
   "cell_type": "markdown",
   "metadata": {},
   "source": [
    " - 這邊講MAP function，有點像R裡面的apply。\n",
    " - MAP(fun, obj)：fun就是自己寫的function, obj就是要對obj做的function。\n",
    " - filter function: 可以把符合條件的element抓出來\n",
    " - lambda expression = anonymous function"
   ]
  },
  {
   "cell_type": "code",
   "execution_count": 3,
   "metadata": {},
   "outputs": [
    {
     "name": "stdout",
     "output_type": "stream",
     "text": [
      "1\n4\n9\n16\n25\n"
     ]
    },
    {
     "data": {
      "text/plain": [
       "[1, 4, 9, 16, 25]"
      ]
     },
     "execution_count": 3,
     "metadata": {},
     "output_type": "execute_result"
    }
   ],
   "source": [
    "def squfun(num):\n",
    "    return num ** 2\n",
    "my_num = [1,2,3,4,5]\n",
    "for i in map(squfun, my_num):\n",
    "    print(i)\n",
    "list(map(squfun, my_num))"
   ]
  },
  {
   "cell_type": "code",
   "execution_count": 6,
   "metadata": {},
   "outputs": [
    {
     "data": {
      "text/plain": [
       "[6, 454, 8, 856, 234, 234, 66]"
      ]
     },
     "execution_count": 6,
     "metadata": {},
     "output_type": "execute_result"
    }
   ],
   "source": [
    "def check_even(num):\n",
    "    return num%2 == 0\n",
    "mynums = [1,5,6,7,43,454,5,7,8,856,65,43,234,234,23,66]\n",
    "list(filter(check_even, mynums))"
   ]
  },
  {
   "cell_type": "code",
   "execution_count": 7,
   "metadata": {},
   "outputs": [
    {
     "data": {
      "text/plain": [
       "25"
      ]
     },
     "execution_count": 7,
     "metadata": {},
     "output_type": "execute_result"
    }
   ],
   "source": [
    "square1 = lambda num: num ** 2\n",
    "# It's the same with below\n",
    "def square2(num):\n",
    "    return num ** 2\n",
    "square1(5)"
   ]
  },
  {
   "cell_type": "code",
   "execution_count": 8,
   "metadata": {},
   "outputs": [
    {
     "data": {
      "text/plain": [
       "25"
      ]
     },
     "execution_count": 8,
     "metadata": {},
     "output_type": "execute_result"
    }
   ],
   "source": [
    "square2(5)"
   ]
  },
  {
   "cell_type": "code",
   "execution_count": 14,
   "metadata": {},
   "outputs": [
    {
     "data": {
      "text/plain": [
       "['A', 'E', 'S']"
      ]
     },
     "execution_count": 14,
     "metadata": {},
     "output_type": "execute_result"
    }
   ],
   "source": [
    "names = ['Andy', 'Even', 'Sally']\n",
    "list(map(lambda name: name[0], names))"
   ]
  },
  {
   "cell_type": "markdown",
   "metadata": {},
   "source": [
    " * This Chapter is going to describe the scope"
   ]
  },
  {
   "cell_type": "code",
   "execution_count": null,
   "metadata": {},
   "outputs": [],
   "source": [
    "x = 25\n",
    "def printer():\n",
    "    x = 50\n",
    "    return x\n",
    "print(x) # 25\n",
    "print(printer()) # 50"
   ]
  },
  {
   "cell_type": "markdown",
   "metadata": {},
   "source": [
    " - 例子(https://www.jianshu.com/p/3b72ba5a209c)\n"
   ]
  },
  {
   "cell_type": "code",
   "execution_count": 3,
   "metadata": {},
   "outputs": [
    {
     "name": "stdout",
     "output_type": "stream",
     "text": [
      "(L) - locals  3\n(E) - enclosing function locals  2\n(G) - global  1\n"
     ]
    }
   ],
   "source": [
    "x = 1 \n",
    "\n",
    "def foo():\n",
    "    x = 2 \n",
    "    def innerfoo():\n",
    "        x = 3 \n",
    "        print ('(L) - locals ', x)\n",
    "    innerfoo()\n",
    "    print ('(E) - enclosing function locals ', x)\n",
    "\n",
    "foo()\n",
    "print ('(G) - global ', x)"
   ]
  },
  {
   "cell_type": "code",
   "execution_count": null,
   "metadata": {},
   "outputs": [],
   "source": []
  }
 ],
 "metadata": {
  "kernelspec": {
   "display_name": "Python 2",
   "language": "python",
   "name": "python2"
  },
  "language_info": {
   "codemirror_mode": {
    "name": "ipython",
    "version": 2
   },
   "file_extension": ".py",
   "mimetype": "text/x-python",
   "name": "python",
   "nbconvert_exporter": "python",
   "pygments_lexer": "ipython2",
   "version": "2.7.6"
  }
 },
 "nbformat": 4,
 "nbformat_minor": 0
}
